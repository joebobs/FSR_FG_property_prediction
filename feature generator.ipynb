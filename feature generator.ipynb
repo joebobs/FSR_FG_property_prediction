{
 "cells": [
  {
   "cell_type": "markdown",
   "id": "corresponding-collar",
   "metadata": {},
   "source": [
    "### DataSet featurize"
   ]
  },
  {
   "cell_type": "code",
   "execution_count": 1,
   "id": "cooperative-orchestra",
   "metadata": {},
   "outputs": [
    {
     "name": "stderr",
     "output_type": "stream",
     "text": [
      "WARNING:root:No normalization for BCUT2D_MWHI\n",
      "WARNING:root:No normalization for BCUT2D_MWLOW\n",
      "WARNING:root:No normalization for BCUT2D_CHGHI\n",
      "WARNING:root:No normalization for BCUT2D_CHGLO\n",
      "WARNING:root:No normalization for BCUT2D_LOGPHI\n",
      "WARNING:root:No normalization for BCUT2D_LOGPLOW\n",
      "WARNING:root:No normalization for BCUT2D_MRHI\n",
      "WARNING:root:No normalization for BCUT2D_MRLOW\n"
     ]
    }
   ],
   "source": [
    "from get_data import get_data\n",
    "import numpy as np\n",
    "import pandas as pd\n",
    "from sklearn.preprocessing import OneHotEncoder"
   ]
  },
  {
   "cell_type": "code",
   "execution_count": 72,
   "id": "scientific-spank",
   "metadata": {},
   "outputs": [],
   "source": [
    "data_path = \"../../chemprop-master/chemprop/data/bace.csv\"\n",
    "smiles_columns = ['mol']\n",
    "target_columns = ['Class']"
   ]
  },
  {
   "cell_type": "code",
   "execution_count": 73,
   "id": "fourth-investigation",
   "metadata": {},
   "outputs": [
    {
     "name": "stderr",
     "output_type": "stream",
     "text": [
      "1513it [00:00, 189596.43it/s]\n",
      "100%|██████████████████████████████████████████████████████████████████████████████| 1513/1513 [00:30<00:00, 50.05it/s]\n",
      "100%|████████████████████████████████████████████████████████████████████████████| 1513/1513 [00:00<00:00, 1625.56it/s]\n"
     ]
    }
   ],
   "source": [
    "data = get_data(path=data_path, \n",
    "                smiles_columns=smiles_columns, \n",
    "                features_generator=['rdkit_2d'],\n",
    "                target_columns=target_columns, \n",
    "                skip_none_targets=True\n",
    "               )"
   ]
  },
  {
   "cell_type": "code",
   "execution_count": 74,
   "id": "postal-joint",
   "metadata": {},
   "outputs": [],
   "source": [
    "features_df = pd.DataFrame(data.features())"
   ]
  },
  {
   "cell_type": "code",
   "execution_count": 17,
   "id": "mounted-mouth",
   "metadata": {},
   "outputs": [],
   "source": [
    "np.save('bace_rdkit',features_df)"
   ]
  },
  {
   "cell_type": "code",
   "execution_count": 12,
   "id": "married-gates",
   "metadata": {},
   "outputs": [],
   "source": [
    "features_df = np.array(data.features())\n",
    "numeric = features_df[:,[not (i in categorical_idx) for i in range(features_df.shape[1])]]\n",
    "categorical = features_df[:,[(i in categorical_idx) for i in range(features_df.shape[1])]]\n",
    "categorical = OneHotEncoder().fit_transform(categorical)\n",
    "features_df = np.concatenate([numeric, categorical.toarray()], axis = 1)"
   ]
  },
  {
   "cell_type": "code",
   "execution_count": 35,
   "id": "grateful-offense",
   "metadata": {},
   "outputs": [
    {
     "data": {
      "text/plain": [
       "(1513, 402)"
      ]
     },
     "execution_count": 35,
     "metadata": {},
     "output_type": "execute_result"
    }
   ],
   "source": [
    "categorical.shape"
   ]
  },
  {
   "cell_type": "code",
   "execution_count": 147,
   "id": "banner-scotland",
   "metadata": {
    "scrolled": true
   },
   "outputs": [
    {
     "name": "stdout",
     "output_type": "stream",
     "text": [
      "Help on function load_features in module chemprop.features.utils:\n",
      "\n",
      "load_features(path: str) -> numpy.ndarray\n",
      "    Loads features saved in a variety of formats.\n",
      "    \n",
      "    Supported formats:\n",
      "    \n",
      "    * :code:`.npz` compressed (assumes features are saved with name \"features\")\n",
      "    * .npy\n",
      "    * :code:`.csv` / :code:`.txt` (assumes comma-separated features with a header and with one line per molecule)\n",
      "    * :code:`.pkl` / :code:`.pckl` / :code:`.pickle` containing a sparse numpy array\n",
      "    \n",
      "    .. note::\n",
      "    \n",
      "       All formats assume that the SMILES loaded elsewhere in the code are in the same\n",
      "       order as the features loaded here.\n",
      "    \n",
      "    :param path: Path to a file containing features.\n",
      "    :return: A 2D numpy array of size :code:`(num_molecules, features_size)` containing the features.\n",
      "\n"
     ]
    }
   ],
   "source": [
    "help(load_features)"
   ]
  },
  {
   "cell_type": "markdown",
   "id": "bizarre-force",
   "metadata": {},
   "source": [
    "### ChemBL Data Featurize and train scalers"
   ]
  },
  {
   "cell_type": "code",
   "execution_count": 1,
   "id": "incredible-northern",
   "metadata": {},
   "outputs": [
    {
     "name": "stderr",
     "output_type": "stream",
     "text": [
      "WARNING:root:No normalization for BCUT2D_MWHI\n",
      "WARNING:root:No normalization for BCUT2D_MWLOW\n",
      "WARNING:root:No normalization for BCUT2D_CHGHI\n",
      "WARNING:root:No normalization for BCUT2D_CHGLO\n",
      "WARNING:root:No normalization for BCUT2D_LOGPHI\n",
      "WARNING:root:No normalization for BCUT2D_LOGPLOW\n",
      "WARNING:root:No normalization for BCUT2D_MRHI\n",
      "WARNING:root:No normalization for BCUT2D_MRLOW\n"
     ]
    }
   ],
   "source": [
    "from get_data import get_data\n",
    "import pandas as pd"
   ]
  },
  {
   "cell_type": "code",
   "execution_count": 3,
   "id": "indonesian-uzbekistan",
   "metadata": {},
   "outputs": [],
   "source": [
    "data_path = \"D:\\Joe\\Acads\\Sem8\\DDP\\Code files\\FSR\\Data\\chembl.csv\"\n",
    "smiles_columns = ['canonical_smiles']\n",
    "target_columns = ['target']"
   ]
  },
  {
   "cell_type": "code",
   "execution_count": 4,
   "id": "purple-right",
   "metadata": {},
   "outputs": [],
   "source": [
    "data = pd.read_csv(data_path,index_col=0)"
   ]
  },
  {
   "cell_type": "code",
   "execution_count": 5,
   "id": "quarterly-sterling",
   "metadata": {},
   "outputs": [],
   "source": [
    "sub_data = data.sample(500000, random_state = 42)"
   ]
  },
  {
   "cell_type": "code",
   "execution_count": 6,
   "id": "alive-church",
   "metadata": {},
   "outputs": [],
   "source": [
    "sub_data.to_csv('D:\\Joe\\Acads\\Sem8\\DDP\\Code files\\FSR\\Data\\chembl_500k.csv')"
   ]
  },
  {
   "cell_type": "code",
   "execution_count": 7,
   "id": "overhead-speaking",
   "metadata": {},
   "outputs": [
    {
     "name": "stderr",
     "output_type": "stream",
     "text": [
      "500000it [00:03, 161449.09it/s]\n",
      "100%|████████████████████████████████████████████████████████████████████████| 500000/500000 [3:52:23<00:00, 35.86it/s]\n",
      "100%|█████████████████████████████████████████████████████████████████████████| 500000/500000 [09:28<00:00, 880.10it/s]\n"
     ]
    }
   ],
   "source": [
    "data_path = \"D:\\Joe\\Acads\\Sem8\\DDP\\Code files\\FSR\\Data\\chembl_500k.csv\"\n",
    "data_featurized = get_data(path=data_path, \n",
    "                smiles_columns=smiles_columns, \n",
    "                features_generator=['rdkit_2d'],\n",
    "                target_columns=target_columns, \n",
    "                skip_none_targets=True\n",
    "               )"
   ]
  },
  {
   "cell_type": "code",
   "execution_count": 9,
   "id": "acoustic-drink",
   "metadata": {},
   "outputs": [
    {
     "data": {
      "text/html": [
       "<div>\n",
       "<style scoped>\n",
       "    .dataframe tbody tr th:only-of-type {\n",
       "        vertical-align: middle;\n",
       "    }\n",
       "\n",
       "    .dataframe tbody tr th {\n",
       "        vertical-align: top;\n",
       "    }\n",
       "\n",
       "    .dataframe thead th {\n",
       "        text-align: right;\n",
       "    }\n",
       "</style>\n",
       "<table border=\"1\" class=\"dataframe\">\n",
       "  <thead>\n",
       "    <tr style=\"text-align: right;\">\n",
       "      <th></th>\n",
       "      <th>0</th>\n",
       "      <th>1</th>\n",
       "      <th>2</th>\n",
       "      <th>3</th>\n",
       "      <th>4</th>\n",
       "      <th>5</th>\n",
       "      <th>6</th>\n",
       "      <th>7</th>\n",
       "      <th>8</th>\n",
       "      <th>9</th>\n",
       "      <th>...</th>\n",
       "      <th>190</th>\n",
       "      <th>191</th>\n",
       "      <th>192</th>\n",
       "      <th>193</th>\n",
       "      <th>194</th>\n",
       "      <th>195</th>\n",
       "      <th>196</th>\n",
       "      <th>197</th>\n",
       "      <th>198</th>\n",
       "      <th>199</th>\n",
       "    </tr>\n",
       "  </thead>\n",
       "  <tbody>\n",
       "    <tr>\n",
       "      <th>0</th>\n",
       "      <td>1.961497</td>\n",
       "      <td>1716.071114</td>\n",
       "      <td>43.973598</td>\n",
       "      <td>36.064274</td>\n",
       "      <td>36.880771</td>\n",
       "      <td>27.800748</td>\n",
       "      <td>20.714359</td>\n",
       "      <td>21.594012</td>\n",
       "      <td>16.647490</td>\n",
       "      <td>17.537171</td>\n",
       "      <td>...</td>\n",
       "      <td>0.0</td>\n",
       "      <td>0.0</td>\n",
       "      <td>0.0</td>\n",
       "      <td>0.0</td>\n",
       "      <td>1.0</td>\n",
       "      <td>0.0</td>\n",
       "      <td>0.0</td>\n",
       "      <td>0.0</td>\n",
       "      <td>0.0</td>\n",
       "      <td>0.083173</td>\n",
       "    </tr>\n",
       "    <tr>\n",
       "      <th>1</th>\n",
       "      <td>1.282396</td>\n",
       "      <td>1582.368656</td>\n",
       "      <td>28.061903</td>\n",
       "      <td>22.858550</td>\n",
       "      <td>22.858550</td>\n",
       "      <td>19.439892</td>\n",
       "      <td>13.926419</td>\n",
       "      <td>13.926419</td>\n",
       "      <td>10.419340</td>\n",
       "      <td>10.419340</td>\n",
       "      <td>...</td>\n",
       "      <td>0.0</td>\n",
       "      <td>0.0</td>\n",
       "      <td>0.0</td>\n",
       "      <td>0.0</td>\n",
       "      <td>0.0</td>\n",
       "      <td>0.0</td>\n",
       "      <td>0.0</td>\n",
       "      <td>2.0</td>\n",
       "      <td>1.0</td>\n",
       "      <td>0.212126</td>\n",
       "    </tr>\n",
       "    <tr>\n",
       "      <th>2</th>\n",
       "      <td>2.349904</td>\n",
       "      <td>609.104973</td>\n",
       "      <td>13.664926</td>\n",
       "      <td>10.926102</td>\n",
       "      <td>10.926102</td>\n",
       "      <td>9.274387</td>\n",
       "      <td>6.315262</td>\n",
       "      <td>6.315262</td>\n",
       "      <td>4.104164</td>\n",
       "      <td>4.104164</td>\n",
       "      <td>...</td>\n",
       "      <td>0.0</td>\n",
       "      <td>0.0</td>\n",
       "      <td>0.0</td>\n",
       "      <td>0.0</td>\n",
       "      <td>0.0</td>\n",
       "      <td>0.0</td>\n",
       "      <td>0.0</td>\n",
       "      <td>2.0</td>\n",
       "      <td>0.0</td>\n",
       "      <td>0.462735</td>\n",
       "    </tr>\n",
       "    <tr>\n",
       "      <th>3</th>\n",
       "      <td>1.361308</td>\n",
       "      <td>1372.369714</td>\n",
       "      <td>26.863232</td>\n",
       "      <td>21.677565</td>\n",
       "      <td>22.494061</td>\n",
       "      <td>18.246352</td>\n",
       "      <td>13.250401</td>\n",
       "      <td>14.733564</td>\n",
       "      <td>10.223611</td>\n",
       "      <td>12.110137</td>\n",
       "      <td>...</td>\n",
       "      <td>1.0</td>\n",
       "      <td>0.0</td>\n",
       "      <td>0.0</td>\n",
       "      <td>0.0</td>\n",
       "      <td>0.0</td>\n",
       "      <td>0.0</td>\n",
       "      <td>0.0</td>\n",
       "      <td>0.0</td>\n",
       "      <td>0.0</td>\n",
       "      <td>0.356467</td>\n",
       "    </tr>\n",
       "    <tr>\n",
       "      <th>4</th>\n",
       "      <td>2.591150</td>\n",
       "      <td>703.527523</td>\n",
       "      <td>10.413849</td>\n",
       "      <td>8.111496</td>\n",
       "      <td>8.111496</td>\n",
       "      <td>7.237183</td>\n",
       "      <td>4.656258</td>\n",
       "      <td>4.656258</td>\n",
       "      <td>3.555242</td>\n",
       "      <td>3.555242</td>\n",
       "      <td>...</td>\n",
       "      <td>0.0</td>\n",
       "      <td>0.0</td>\n",
       "      <td>0.0</td>\n",
       "      <td>0.0</td>\n",
       "      <td>0.0</td>\n",
       "      <td>0.0</td>\n",
       "      <td>0.0</td>\n",
       "      <td>0.0</td>\n",
       "      <td>0.0</td>\n",
       "      <td>0.523860</td>\n",
       "    </tr>\n",
       "  </tbody>\n",
       "</table>\n",
       "<p>5 rows × 200 columns</p>\n",
       "</div>"
      ],
      "text/plain": [
       "        0            1          2          3          4          5    \\\n",
       "0  1.961497  1716.071114  43.973598  36.064274  36.880771  27.800748   \n",
       "1  1.282396  1582.368656  28.061903  22.858550  22.858550  19.439892   \n",
       "2  2.349904   609.104973  13.664926  10.926102  10.926102   9.274387   \n",
       "3  1.361308  1372.369714  26.863232  21.677565  22.494061  18.246352   \n",
       "4  2.591150   703.527523  10.413849   8.111496   8.111496   7.237183   \n",
       "\n",
       "         6          7          8          9    ...  190  191  192  193  194  \\\n",
       "0  20.714359  21.594012  16.647490  17.537171  ...  0.0  0.0  0.0  0.0  1.0   \n",
       "1  13.926419  13.926419  10.419340  10.419340  ...  0.0  0.0  0.0  0.0  0.0   \n",
       "2   6.315262   6.315262   4.104164   4.104164  ...  0.0  0.0  0.0  0.0  0.0   \n",
       "3  13.250401  14.733564  10.223611  12.110137  ...  1.0  0.0  0.0  0.0  0.0   \n",
       "4   4.656258   4.656258   3.555242   3.555242  ...  0.0  0.0  0.0  0.0  0.0   \n",
       "\n",
       "   195  196  197  198       199  \n",
       "0  0.0  0.0  0.0  0.0  0.083173  \n",
       "1  0.0  0.0  2.0  1.0  0.212126  \n",
       "2  0.0  0.0  2.0  0.0  0.462735  \n",
       "3  0.0  0.0  0.0  0.0  0.356467  \n",
       "4  0.0  0.0  0.0  0.0  0.523860  \n",
       "\n",
       "[5 rows x 200 columns]"
      ]
     },
     "execution_count": 9,
     "metadata": {},
     "output_type": "execute_result"
    }
   ],
   "source": [
    "df = pd.DataFrame(data_featurized.features())\n",
    "df.head()"
   ]
  },
  {
   "cell_type": "code",
   "execution_count": 10,
   "id": "protective-theme",
   "metadata": {},
   "outputs": [],
   "source": [
    "df2 = df.copy()"
   ]
  },
  {
   "cell_type": "code",
   "execution_count": 12,
   "id": "fleet-certification",
   "metadata": {},
   "outputs": [],
   "source": [
    "import numpy as np\n",
    "maxdf = df.replace(np.inf,0).max()"
   ]
  },
  {
   "cell_type": "code",
   "execution_count": 13,
   "id": "laughing-nebraska",
   "metadata": {},
   "outputs": [
    {
     "data": {
      "text/plain": [
       "9.583925636408097"
      ]
     },
     "execution_count": 13,
     "metadata": {},
     "output_type": "execute_result"
    }
   ],
   "source": [
    "maxdf[0]"
   ]
  },
  {
   "cell_type": "code",
   "execution_count": 14,
   "id": "aggressive-berkeley",
   "metadata": {},
   "outputs": [],
   "source": [
    "df3 = df.transpose()[:]"
   ]
  },
  {
   "cell_type": "code",
   "execution_count": 15,
   "id": "disabled-feedback",
   "metadata": {},
   "outputs": [],
   "source": [
    "for idx, col in df3.iterrows():\n",
    "    df.iloc[:,idx] = col.replace(np.inf,maxdf[idx])"
   ]
  },
  {
   "cell_type": "code",
   "execution_count": 17,
   "id": "funded-negative",
   "metadata": {},
   "outputs": [],
   "source": [
    "np.save('chembl_500k_features.npy',df)"
   ]
  },
  {
   "cell_type": "code",
   "execution_count": 18,
   "id": "military-extreme",
   "metadata": {},
   "outputs": [],
   "source": [
    "import numpy as np\n",
    "import matplotlib.pyplot as plt\n",
    "import bisect\n",
    "cardinality = df.nunique().values\n",
    "a = np.sort(cardinality)"
   ]
  },
  {
   "cell_type": "code",
   "execution_count": 19,
   "id": "occupational-discount",
   "metadata": {},
   "outputs": [
    {
     "data": {
      "text/plain": [
       "array([     1,      1,      1,      2,      3,      3,      3,      3,\n",
       "            3,      3,      4,      4,      4,      4,      4,      5,\n",
       "            5,      5,      5,      5,      6,      6,      6,      6,\n",
       "            6,      6,      6,      6,      6,      6,      7,      7,\n",
       "            7,      7,      7,      7,      7,      7,      8,      8,\n",
       "            8,      8,      8,      8,      8,      8,      8,     10,\n",
       "           10,     11,     12,     12,     14,     14,     14,     15,\n",
       "           15,     15,     15,     15,     16,     18,     18,     19,\n",
       "           19,     20,     21,     21,     22,     22,     24,     24,\n",
       "           25,     26,     26,     28,     29,     29,     29,     30,\n",
       "           31,     32,     33,     34,     36,     37,     39,     39,\n",
       "           40,     41,     42,     50,     52,     53,     55,     58,\n",
       "           59,     65,     74,     86,     96,    111,    125,    151,\n",
       "          154,    188,    194,    203,    409,    782,   1031,   1303,\n",
       "         1446,   1475,   1781,   1818,   2326,   2399,   2649,   3280,\n",
       "         3360,   3480,   3817,   4726,   4994,   5113,   5959,   6373,\n",
       "         6945,   7361,   7438,   7540,  12634,  12731,  13267,  14117,\n",
       "        17982,  18338,  19640,  19997,  23249,  27933,  29535,  35111,\n",
       "        37846,  40890,  45022,  45414,  47049,  47272,  48733,  49960,\n",
       "        59870,  60456,  65350,  72356,  74678,  75710,  96681, 110909,\n",
       "       119646, 179153, 183200, 204343, 214037, 221850, 250681, 280577,\n",
       "       304492, 329736, 346456, 350986, 395857, 396677, 404856, 407933,\n",
       "       416168, 416923, 435385, 444792, 448489, 452745, 453862, 454614,\n",
       "       458404, 463408, 463466, 464756, 470018, 470086, 474499, 474729,\n",
       "       479038, 479520, 480491, 482540, 482540, 486876, 486990, 487979],\n",
       "      dtype=int64)"
      ]
     },
     "execution_count": 19,
     "metadata": {},
     "output_type": "execute_result"
    }
   ],
   "source": [
    "a # We will use the 203 -> 409 jump as division point for categorical and numerical"
   ]
  },
  {
   "cell_type": "code",
   "execution_count": 20,
   "id": "adequate-relationship",
   "metadata": {},
   "outputs": [
    {
     "data": {
      "text/plain": [
       "203"
      ]
     },
     "execution_count": 20,
     "metadata": {},
     "output_type": "execute_result"
    }
   ],
   "source": [
    "'''cardinality[59]'''"
   ]
  },
  {
   "cell_type": "code",
   "execution_count": null,
   "id": "compliant-cliff",
   "metadata": {},
   "outputs": [],
   "source": [
    "'''bisect.bisect(a, 117)'''"
   ]
  },
  {
   "cell_type": "code",
   "execution_count": 22,
   "id": "pediatric-cooking",
   "metadata": {},
   "outputs": [
    {
     "data": {
      "text/plain": [
       "array([102, 186,  89, 149, 163, 167, 152, 151, 195, 164, 147, 191, 193,\n",
       "       175, 192, 137, 177, 126, 145, 153, 146, 184,  60, 188, 156, 160,\n",
       "       142, 174, 196, 162, 194, 127, 159, 176, 183, 168, 173, 172, 128,\n",
       "       132, 190, 198, 166, 170, 165, 118, 171, 133, 138, 189, 187, 185,\n",
       "       178, 157, 136, 123,  62, 122, 161, 114, 169, 134, 154,  51, 144,\n",
       "       117, 143, 148, 120, 135, 182, 181, 140, 131,  54, 139, 121, 179,\n",
       "       180,  63,  52, 158,  64,  53,  83,  55, 116, 115,  56, 150, 155,\n",
       "       119, 141, 125, 130,  80, 124, 129, 197,  58,  49,  16,  93,  57,\n",
       "       100,  50,  61,  59,  31,  75,  65,  70,  94,  92,  74,  85,  90,\n",
       "        97,  29,  71,  69, 101,  73,  26,  15,  72,  84,  27,  68,  91,\n",
       "        24,  28,  30,  96,  87,  22,  21,  66,  81,  76,  67,  20,  99,\n",
       "        98,   2,  86,  77, 103,  14,  79,  34,  23,  78,  82,  88,  17,\n",
       "        18,  19,  35,  32,   5,  95, 105,  36, 113,  25,  48,   3,  46,\n",
       "         4,  39,  45, 104,  41,  43,  33, 111, 112, 107,  47,   1,   0,\n",
       "        37, 109, 110, 106,   6,  42, 108, 199,  44,   7,   8,  12,  10,\n",
       "        40,  38,   9,  13,  11], dtype=int64)"
      ]
     },
     "execution_count": 22,
     "metadata": {},
     "output_type": "execute_result"
    }
   ],
   "source": [
    "'''np.argsort(cardinality)'''"
   ]
  },
  {
   "cell_type": "code",
   "execution_count": 6,
   "id": "controlling-indianapolis",
   "metadata": {},
   "outputs": [],
   "source": [
    "'''import numpy as np\n",
    "arr = np.array([     1,      1,      1,      2,      3,      3,      3,      3,\n",
    "            3,      3,      4,      4,      4,      4,      4,      5,\n",
    "            5,      5,      5,      5,      6,      6,      6,      6,\n",
    "            6,      6,      6,      6,      6,      6,      7,      7,\n",
    "            7,      7,      7,      7,      7,      7,      8,      8,\n",
    "            8,      8,      8,      8,      8,      8,      8,     10,\n",
    "           10,     11,     12,     12,     14,     14,     14,     15,\n",
    "           15,     15,     15,     15,     16,     18,     18,     19,\n",
    "           19,     20,     21,     21,     22,     22,     24,     24,\n",
    "           25,     26,     26,     28,     29,     29,     29,     30,\n",
    "           31,     32,     33,     34,     36,     37,     39,     39,\n",
    "           40,     41,     42,     50,     52,     53,     55,     58,\n",
    "           59,     65,     74,     86,     96,    111,    125,    151,\n",
    "          154,    188,    194,    203,    409,    782,   1031,   1303,\n",
    "         1446,   1475,   1781,   1818,   2326,   2399,   2649,   3280,\n",
    "         3360,   3480,   3817,   4726,   4994,   5113,   5959,   6373,\n",
    "         6945,   7361,   7438,   7540,  12634,  12731,  13267,  14117,\n",
    "        17982,  18338,  19640,  19997,  23249,  27933,  29535,  35111,\n",
    "        37846,  40890,  45022,  45414,  47049,  47272,  48733,  49960,\n",
    "        59870,  60456,  65350,  72356,  74678,  75710,  96681, 110909,\n",
    "       119646, 179153, 183200, 204343, 214037, 221850, 250681, 280577,\n",
    "       304492, 329736, 346456, 350986, 395857, 396677, 404856, 407933,\n",
    "       416168, 416923, 435385, 444792, 448489, 452745, 453862, 454614,\n",
    "       458404, 463408, 463466, 464756, 470018, 470086, 474499, 474729,\n",
    "       479038, 479520, 480491, 482540, 482540, 486876, 486990, 487979])'''"
   ]
  },
  {
   "cell_type": "code",
   "execution_count": 8,
   "id": "unable-shade",
   "metadata": {},
   "outputs": [
    {
     "data": {
      "text/plain": [
       "203"
      ]
     },
     "execution_count": 8,
     "metadata": {},
     "output_type": "execute_result"
    }
   ],
   "source": [
    "arr[107]"
   ]
  },
  {
   "cell_type": "code",
   "execution_count": 3,
   "id": "effective-julian",
   "metadata": {},
   "outputs": [],
   "source": [
    "'''l1 = set([102, 186,  89, 149, 152, 195, 151, 137, 167,  60, 191, 145, 147,\n",
    "       163, 164, 175, 126, 146, 127, 184, 193, 192, 177, 173, 142, 138,\n",
    "       196, 153, 174, 156, 188, 159, 160, 162, 172, 171, 170, 118, 183,\n",
    "       190, 176, 132, 128, 194, 168, 198, 166, 187, 165, 189, 178, 136,\n",
    "       133, 185,  62, 134, 161, 154, 169, 179, 180, 157, 121, 122, 123,\n",
    "       117, 114, 182, 181, 144, 148,  51, 143, 120,  54, 135, 131, 140,\n",
    "        52,  63, 158, 139,  64,  83,  55,  53, 155, 150,  56, 116, 115,\n",
    "       119, 129, 197,  80, 125, 141, 130, 124,  16, 100,  93,  58,  49,\n",
    "        57,  50,  59,  61])\n",
    "l2 = set([163, 102, 186, 151,  89, 145, 146, 164,  60, 147, 149, 195, 137,\n",
    "       168, 170, 160, 175, 152, 156, 126, 167, 191, 193, 118, 142, 162,\n",
    "       138, 188, 159, 182, 171, 181, 174, 192, 176, 177, 184, 153, 183,\n",
    "       194, 190, 196, 173, 172, 127, 132, 165, 136, 166, 187, 198, 128,\n",
    "       178, 117, 161, 189, 135, 185, 133, 120,  62, 134,  51, 144, 157,\n",
    "       154,  54, 143, 148, 123, 122, 114, 169, 121, 179, 180,  55, 139,\n",
    "        63, 119, 158, 140,  83,  52,  64, 131,  56,  53, 115, 116, 150,\n",
    "       129, 155,  80,  16, 197, 125, 141, 100, 130, 124,  93,  58,  57,\n",
    "        49,  50,  59,  61])'''"
   ]
  },
  {
   "cell_type": "code",
   "execution_count": 24,
   "id": "catholic-rugby",
   "metadata": {},
   "outputs": [
    {
     "name": "stdout",
     "output_type": "stream",
     "text": [
      "True\n",
      "True\n"
     ]
    }
   ],
   "source": [
    "'''print(l1.issubset(l2))\n",
    "print(l2.issubset(l1))'''"
   ]
  },
  {
   "cell_type": "code",
   "execution_count": 25,
   "id": "other-variance",
   "metadata": {},
   "outputs": [],
   "source": [
    "cat_cols = df.iloc[:,[163, 102, 186, 151,  89, 145, 146, 164,  60, 147, 149, 195, 137,\n",
    "       168, 170, 160, 175, 152, 156, 126, 167, 191, 193, 118, 142, 162,\n",
    "       138, 188, 159, 182, 171, 181, 174, 192, 176, 177, 184, 153, 183,\n",
    "       194, 190, 196, 173, 172, 127, 132, 165, 136, 166, 187, 198, 128,\n",
    "       178, 117, 161, 189, 135, 185, 133, 120,  62, 134,  51, 144, 157,\n",
    "       154,  54, 143, 148, 123, 122, 114, 169, 121, 179, 180,  55, 139,\n",
    "        63, 119, 158, 140,  83,  52,  64, 131,  56,  53, 115, 116, 150,\n",
    "       129, 155,  80,  16, 197, 125, 141, 100, 130, 124,  93,  58,  57,\n",
    "        49,  50,  59,  61]].round(4)"
   ]
  },
  {
   "cell_type": "code",
   "execution_count": 26,
   "id": "prescribed-circle",
   "metadata": {
    "scrolled": true
   },
   "outputs": [
    {
     "data": {
      "text/plain": [
       "3038"
      ]
     },
     "execution_count": 26,
     "metadata": {},
     "output_type": "execute_result"
    }
   ],
   "source": [
    "cat_cols.nunique().sum()"
   ]
  },
  {
   "cell_type": "code",
   "execution_count": 1,
   "id": "hearing-commissioner",
   "metadata": {
    "scrolled": true
   },
   "outputs": [
    {
     "data": {
      "text/plain": [
       "'cat_cols_bace = features_df.iloc[:,[163, 102, 186, 151,  89, 145, 146, 164,  60, 147, 149, 195, 137,\\n       168, 170, 160, 175, 152, 156, 126, 167, 191, 193, 118, 142, 162,\\n       138, 188, 159, 182, 171, 181, 174, 192, 176, 177, 184, 153, 183,\\n       194, 190, 196, 173, 172, 127, 132, 165, 136, 166, 187, 198, 128,\\n       178, 117, 161, 189, 135, 185, 133, 120,  62, 134,  51, 144, 157,\\n       154,  54, 143, 148, 123, 122, 114, 169, 121, 179, 180,  55, 139,\\n        63, 119, 158, 140,  83,  52,  64, 131,  56,  53, 115, 116, 150,\\n       129, 155,  80,  16, 197, 125, 141, 100, 130, 124,  93,  58,  57,\\n        49,  50,  59,  61]]'"
      ]
     },
     "execution_count": 1,
     "metadata": {},
     "output_type": "execute_result"
    }
   ],
   "source": [
    "'''cat_cols_bace = features_df.iloc[:,[163, 102, 186, 151,  89, 145, 146, 164,  60, 147, 149, 195, 137,\n",
    "       168, 170, 160, 175, 152, 156, 126, 167, 191, 193, 118, 142, 162,\n",
    "       138, 188, 159, 182, 171, 181, 174, 192, 176, 177, 184, 153, 183,\n",
    "       194, 190, 196, 173, 172, 127, 132, 165, 136, 166, 187, 198, 128,\n",
    "       178, 117, 161, 189, 135, 185, 133, 120,  62, 134,  51, 144, 157,\n",
    "       154,  54, 143, 148, 123, 122, 114, 169, 121, 179, 180,  55, 139,\n",
    "        63, 119, 158, 140,  83,  52,  64, 131,  56,  53, 115, 116, 150,\n",
    "       129, 155,  80,  16, 197, 125, 141, 100, 130, 124,  93,  58,  57,\n",
    "        49,  50,  59,  61]]'''"
   ]
  },
  {
   "cell_type": "code",
   "execution_count": 2,
   "id": "accredited-baseline",
   "metadata": {},
   "outputs": [
    {
     "data": {
      "text/plain": [
       "'cat_unique = [set(cat_cols[j]) for j in cat_cols.columns]\\ncat_bace_unique = [set(cat_cols_bace[j]) for j in cat_cols_bace.columns]'"
      ]
     },
     "execution_count": 2,
     "metadata": {},
     "output_type": "execute_result"
    }
   ],
   "source": [
    "'''cat_unique = [set(cat_cols[j]) for j in cat_cols.columns]\n",
    "cat_bace_unique = [set(cat_cols_bace[j]) for j in cat_cols_bace.columns]'''"
   ]
  },
  {
   "cell_type": "code",
   "execution_count": 27,
   "id": "ultimate-jumping",
   "metadata": {},
   "outputs": [],
   "source": [
    "from sklearn.preprocessing import OneHotEncoder, MinMaxScaler"
   ]
  },
  {
   "cell_type": "code",
   "execution_count": 28,
   "id": "legislative-virtue",
   "metadata": {},
   "outputs": [],
   "source": [
    "ohe_list = []\n",
    "for col in cat_cols.columns:\n",
    "    ohe = OneHotEncoder(sparse = False, handle_unknown='ignore')\n",
    "    ohe.fit(cat_cols[col].values.reshape(-1,1))\n",
    "    ohe_list.append(ohe)"
   ]
  },
  {
   "cell_type": "code",
   "execution_count": 29,
   "id": "convinced-somerset",
   "metadata": {},
   "outputs": [],
   "source": [
    "import pickle\n",
    "with open(r\"D:\\Joe\\Acads\\Sem8\\DDP\\Code files\\FSR\\Data\\features\\ohe_list\", \"wb\") as f:\n",
    "    pickle.dump(ohe_list, f)"
   ]
  },
  {
   "cell_type": "code",
   "execution_count": 3,
   "id": "toxic-match",
   "metadata": {},
   "outputs": [
    {
     "data": {
      "text/plain": [
       "'inp = cat_cols.values\\nop = None\\nfor idx in range(108):\\n    temp = ohe_list[idx].transform(inp[:,idx].reshape(-1,1))\\n    if not isinstance(op, np.ndarray):\\n        op = temp\\n    else:\\n        op = np.concatenate([op, temp], axis = 1)'"
      ]
     },
     "execution_count": 3,
     "metadata": {},
     "output_type": "execute_result"
    }
   ],
   "source": [
    "'''inp = cat_cols.values\n",
    "op = None\n",
    "for idx in range(108):\n",
    "    temp = ohe_list[idx].transform(inp[:,idx].reshape(-1,1))\n",
    "    if not isinstance(op, np.ndarray):\n",
    "        op = temp\n",
    "    else:\n",
    "        op = np.concatenate([op, temp], axis = 1)'''"
   ]
  },
  {
   "cell_type": "markdown",
   "id": "greater-breakdown",
   "metadata": {},
   "source": [
    "#### Numerical features now"
   ]
  },
  {
   "cell_type": "code",
   "execution_count": 31,
   "id": "regional-venice",
   "metadata": {},
   "outputs": [
    {
     "data": {
      "text/plain": [
       "array([  0,   1,   2,   3,   4,   5,   6,   7,   8,   9,  10,  11,  12,\n",
       "        13,  14,  15,  17,  18,  19,  20,  21,  22,  23,  24,  25,  26,\n",
       "        27,  28,  29,  30,  31,  32,  33,  34,  35,  36,  37,  38,  39,\n",
       "        40,  41,  42,  43,  44,  45,  46,  47,  48,  65,  66,  67,  68,\n",
       "        69,  70,  71,  72,  73,  74,  75,  76,  77,  78,  79,  81,  82,\n",
       "        84,  85,  86,  87,  88,  90,  91,  92,  94,  95,  96,  97,  98,\n",
       "        99, 101, 103, 104, 105, 106, 107, 108, 109, 110, 111, 112, 113,\n",
       "       199])"
      ]
     },
     "execution_count": 31,
     "metadata": {},
     "output_type": "execute_result"
    }
   ],
   "source": [
    "numeric_col_names = np.sort([75,  31,  70,  94,  65,  74,  92,  85,  71,\n",
    "        97,  90,  69,  29,  73, 101,  15,  72,  68,  26,  84,  24,  91,\n",
    "        27,  28,  96,  22,  87,  21,  66,  76,  81,  30,  67,  20,  99,\n",
    "        14,  98,  86,  23,  79,  77,   2,  17,  82,  78,  19, 105,  18,\n",
    "        88, 113, 103,  34,  32,   5,  95,  35, 104, 111, 112,  25, 107,\n",
    "        39,  48,  45,  36, 109, 110,   3, 106,  41,  42,  43, 108,  46,\n",
    "         4,  44,  33,   0,  37,   1,  47,  40,  38,   6, 199,   7,  10,\n",
    "        12,   8,  11,  13,   9])\n",
    "numeric_col_names"
   ]
  },
  {
   "cell_type": "code",
   "execution_count": 32,
   "id": "victorian-sharing",
   "metadata": {},
   "outputs": [],
   "source": [
    "num_cols = df.iloc[:,numeric_col_names]"
   ]
  },
  {
   "cell_type": "code",
   "execution_count": 33,
   "id": "disabled-venice",
   "metadata": {},
   "outputs": [],
   "source": [
    "maxs = num_cols.max().values\n",
    "mins = num_cols.min().values"
   ]
  },
  {
   "cell_type": "code",
   "execution_count": 34,
   "id": "dynamic-technique",
   "metadata": {},
   "outputs": [
    {
     "data": {
      "text/plain": [
       "array([4.40960086e+242, 1.26343659e+249, 3.70017935e+251, 2.53456651e+252,\n",
       "       1.08404908e+255, 1.15467445e+255, 2.86611779e+263, 1.78133756e+270,\n",
       "       4.70001914e+275, 2.45138414e+302])"
      ]
     },
     "execution_count": 34,
     "metadata": {},
     "output_type": "execute_result"
    }
   ],
   "source": [
    "np.sort(num_cols.values.reshape(-1))[-10:]"
   ]
  },
  {
   "cell_type": "code",
   "execution_count": 35,
   "id": "royal-porcelain",
   "metadata": {},
   "outputs": [
    {
     "data": {
      "text/plain": [
       "array([91, 44, 28, 42, 25, 40, 38, 26, 27, 43,  0, 41, 29, 37, 39, 86, 90,\n",
       "       12, 89, 10, 53, 85, 58,  8, 57, 45, 66, 76, 82,  9,  6, 88, 87,  7,\n",
       "       70,  5, 11, 56,  3,  4, 21, 79, 20, 52, 34, 73,  2, 18, 55, 75, 65,\n",
       "       50, 64, 30, 49, 33, 23, 71, 51, 60, 13, 84, 19, 16, 61, 17, 15, 72,\n",
       "       62, 68, 63, 59, 77, 83, 78, 22, 74, 14, 67, 69, 46, 54, 81, 36, 48,\n",
       "       80, 31, 24, 47, 35,  1, 32], dtype=int64)"
      ]
     },
     "execution_count": 35,
     "metadata": {},
     "output_type": "execute_result"
    }
   ],
   "source": [
    "np.argsort(num_cols.max().values)"
   ]
  },
  {
   "cell_type": "code",
   "execution_count": 36,
   "id": "white-blink",
   "metadata": {},
   "outputs": [],
   "source": [
    "col_min_max = {np.inf: num_cols[np.isfinite(num_cols)].max(),    # column-wise max\n",
    "              -np.inf: num_cols[np.isfinite(num_cols)].min()}    # column-wise min\n",
    "\n",
    "num_cols = num_cols.replace({col: col_min_max for col in num_cols.columns})"
   ]
  },
  {
   "cell_type": "markdown",
   "id": "anonymous-discount",
   "metadata": {},
   "source": [
    "One of the feautures with a very large range (order 1e0 to 1e100) is converted to log scale to accomodate for the difference in its lowest to largest value"
   ]
  },
  {
   "cell_type": "code",
   "execution_count": null,
   "id": "hourly-zimbabwe",
   "metadata": {},
   "outputs": [],
   "source": [
    "num_cols.iloc[:,32] = np.log(num_cols.iloc[:,32]+1)"
   ]
  },
  {
   "cell_type": "code",
   "execution_count": 38,
   "id": "empty-banks",
   "metadata": {},
   "outputs": [
    {
     "data": {
      "text/plain": [
       "0         28.538621\n",
       "1         21.069028\n",
       "2         10.114249\n",
       "3         19.870362\n",
       "4          8.491473\n",
       "            ...    \n",
       "499995    11.725137\n",
       "499996    10.674614\n",
       "499997    15.792459\n",
       "499998    20.367895\n",
       "499999     8.467165\n",
       "Name: 33, Length: 500000, dtype: float64"
      ]
     },
     "execution_count": 38,
     "metadata": {},
     "output_type": "execute_result"
    }
   ],
   "source": [
    "num_cols.iloc[:,32]"
   ]
  },
  {
   "cell_type": "code",
   "execution_count": 39,
   "id": "black-mouth",
   "metadata": {},
   "outputs": [
    {
     "data": {
      "text/plain": [
       "MinMaxScaler()"
      ]
     },
     "execution_count": 39,
     "metadata": {},
     "output_type": "execute_result"
    }
   ],
   "source": [
    "scaler = MinMaxScaler()\n",
    "scaler.fit(num_cols)"
   ]
  },
  {
   "cell_type": "code",
   "execution_count": 40,
   "id": "superior-infrared",
   "metadata": {},
   "outputs": [],
   "source": [
    "import pickle\n",
    "with open(r\"D:\\Joe\\Acads\\Sem8\\DDP\\Code files\\FSR\\Data\\features\\min_max_scaler\", \"wb\") as f:\n",
    "    pickle.dump(scaler, f)"
   ]
  },
  {
   "cell_type": "code",
   "execution_count": 154,
   "id": "sweet-scratch",
   "metadata": {},
   "outputs": [
    {
     "data": {
      "text/plain": [
       "92"
      ]
     },
     "execution_count": 154,
     "metadata": {},
     "output_type": "execute_result"
    }
   ],
   "source": [
    "sum([i==i for i in num_cols.iloc[70,:].values])"
   ]
  },
  {
   "cell_type": "code",
   "execution_count": null,
   "id": "laughing-senior",
   "metadata": {},
   "outputs": [],
   "source": []
  }
 ],
 "metadata": {
  "kernelspec": {
   "display_name": "Python 3",
   "language": "python",
   "name": "python3"
  },
  "language_info": {
   "codemirror_mode": {
    "name": "ipython",
    "version": 3
   },
   "file_extension": ".py",
   "mimetype": "text/x-python",
   "name": "python",
   "nbconvert_exporter": "python",
   "pygments_lexer": "ipython3",
   "version": "3.8.5"
  }
 },
 "nbformat": 4,
 "nbformat_minor": 5
}
